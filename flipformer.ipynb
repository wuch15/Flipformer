{
 "cells": [
  {
   "cell_type": "code",
   "execution_count": 1,
   "id": "067a729d",
   "metadata": {},
   "outputs": [],
   "source": [
    "import csv\n",
    "import random\n",
    "from nltk.tokenize import wordpunct_tokenize\n",
    "dataset=[]\n",
    "label_convert={'positive':1,'negative':0}\n",
    "with open('IMDB Dataset.csv',encoding='utf-8')as f:\n",
    "    reader = csv.reader(f, delimiter=',')\n",
    "    for row in reader:\n",
    "        if row==['review', 'sentiment']:\n",
    "            continue\n",
    "        dataset.append([row[0].replace('<br />',' '),label_convert[row[1]]])"
   ]
  },
  {
   "cell_type": "code",
   "execution_count": 2,
   "id": "b0305692",
   "metadata": {},
   "outputs": [],
   "source": [
    "text=[]\n",
    "label=[]\n",
    "for row in dataset:\n",
    "    text.append(wordpunct_tokenize(row[0].lower()))\n",
    "    label.append(row[1])"
   ]
  },
  {
   "cell_type": "code",
   "execution_count": 3,
   "id": "024d4fcf",
   "metadata": {},
   "outputs": [],
   "source": [
    "word_dict={'PADDING':0}\n",
    "for sent in text:    \n",
    "    for token in sent:        \n",
    "        if token not in word_dict:\n",
    "            word_dict[token]=len(word_dict)"
   ]
  },
  {
   "cell_type": "code",
   "execution_count": 4,
   "id": "a97d2d3a",
   "metadata": {},
   "outputs": [],
   "source": [
    "from tqdm import tqdm \n",
    "import numpy as np\n",
    "news_words = []\n",
    "for sent in text:       \n",
    "    sample=[]\n",
    "    for token in sent:     \n",
    "        sample.append(word_dict[token])\n",
    "    sample = sample[:512]\n",
    "    news_words.append(sample+[0]*(512-len(sample)))\n"
   ]
  },
  {
   "cell_type": "code",
   "execution_count": 5,
   "id": "18848a7e",
   "metadata": {},
   "outputs": [],
   "source": [
    "\n",
    "news_words=np.array(news_words,dtype='int32') \n",
    "label=np.array(label,dtype='int32') "
   ]
  },
  {
   "cell_type": "code",
   "execution_count": 6,
   "id": "0029d190",
   "metadata": {},
   "outputs": [],
   "source": [
    "index=np.arange(len(label))\n",
    "train_index=index[:25000]\n",
    "np.random.shuffle(train_index)\n",
    "test_index=index[25000:]"
   ]
  },
  {
   "cell_type": "code",
   "execution_count": 7,
   "id": "a2c6164f",
   "metadata": {},
   "outputs": [],
   "source": [
    "import os\n",
    "import logging\n",
    "os.environ[\"CUDA_VISIBLE_DEVICES\"] = \"0\"\n"
   ]
  },
  {
   "cell_type": "code",
   "execution_count": 8,
   "id": "c5485ad9",
   "metadata": {},
   "outputs": [],
   "source": [
    "from transformers import BertConfig\n",
    "from transformers.modeling_bert import BertSelfOutput, BertIntermediate, BertOutput\n",
    "config=BertConfig.from_json_file('config.json')\n"
   ]
  },
  {
   "cell_type": "code",
   "execution_count": 9,
   "id": "6dbc9b33",
   "metadata": {},
   "outputs": [],
   "source": [
    "import torch\n",
    "import torch.nn as nn\n",
    "\n",
    "class AttentionPooling(nn.Module):\n",
    "    def __init__(self, config):\n",
    "        self.config = config\n",
    "        super(AttentionPooling, self).__init__()\n",
    "        self.att_fc1 = nn.Linear(config.hidden_size, config.hidden_size)\n",
    "        self.att_fc2 = nn.Linear(config.hidden_size, 1)\n",
    "        self.apply(self.init_weights)\n",
    "        \n",
    "    def init_weights(self, module):\n",
    "        if isinstance(module, nn.Linear):\n",
    "            module.weight.data.normal_(mean=0.0, std=self.config.initializer_range)\n",
    "        if isinstance(module, nn.Linear) and module.bias is not None:\n",
    "            module.bias.data.zero_()\n",
    "            \n",
    "                \n",
    "    def forward(self, x, attn_mask=None):\n",
    "        bz = x.shape[0]\n",
    "        e = self.att_fc1(x)\n",
    "        e = nn.Tanh()(e)\n",
    "        alpha = self.att_fc2(e)\n",
    "        alpha = torch.exp(alpha)\n",
    "        if attn_mask is not None:\n",
    "            alpha = alpha * attn_mask.unsqueeze(2)\n",
    "        alpha = alpha / (torch.sum(alpha, dim=1, keepdim=True) + 1e-8)\n",
    "        x = torch.bmm(x.permute(0, 2, 1), alpha)\n",
    "        x = torch.reshape(x, (bz, -1))  \n",
    "        return x\n"
   ]
  },
  {
   "cell_type": "code",
   "execution_count": 11,
   "id": "b7cb970e",
   "metadata": {},
   "outputs": [],
   "source": [
    "class FlipSelfAttention(nn.Module):\n",
    "    def __init__(self, config, **kwargs):\n",
    "        super(FlipSelfAttention, self).__init__()\n",
    "        self.config = config\n",
    "        if config.hidden_size % config.num_attention_heads != 0:\n",
    "            raise ValueError(\n",
    "                \"The hidden size (%d) is not a multiple of the number of attention \"\n",
    "                \"heads (%d)\" %\n",
    "                (config.hidden_size, config.num_attention_heads))\n",
    "\n",
    "        self.num_attention_heads = config.num_attention_heads\n",
    "        self.attention_head_size = int(config.hidden_size /\n",
    "                                       config.num_attention_heads)\n",
    "        self.all_head_size = self.num_attention_heads * self.attention_head_size\n",
    "\n",
    "        self.query = nn.Linear(config.hidden_size, self.all_head_size)\n",
    "        self.key = nn.Linear(config.hidden_size, self.all_head_size)\n",
    "\n",
    "        self.softmax = nn.Softmax(dim=-1)\n",
    "\n",
    "        self.length_flip_index_dict={}\n",
    "\n",
    "    def transpose_for_scores(self, x):\n",
    "        new_x_shape = x.size()[:-1] + (self.num_attention_heads,\n",
    "                                       self.attention_head_size)\n",
    "        x = x.view(*new_x_shape)\n",
    "        return x.permute(0, 2, 1, 3)\n",
    "\n",
    "    \n",
    "\n",
    "    def forward(self, hidden_states, attention_mask):\n",
    "        # batch_size, seq_len, num_head * head_dim\n",
    "        batch_size, seq_len, _ = hidden_states.shape \n",
    "        pading_tensor_length = int(2**np.ceil(np.log2(seq_len)))\n",
    "        if pading_tensor_length not in self.length_flip_index_dict:\n",
    "            tempindex=np.arange(pading_tensor_length)\n",
    "            #bias = [0]+[random.randint(1,pading_tensor_length-1) for _ in range(3)]\n",
    "            tensors=[]\n",
    "            #for j in bias:\n",
    "            if self.num_attention_heads<=int(np.ceil(np.log2(seq_len))):\n",
    "                for i in range(self.num_attention_heads):\n",
    "                    pp=int(2**(np.ceil(np.log2(seq_len))-1-i))\n",
    "                    temp=np.reshape(tempindex,(pp,pading_tensor_length//pp))\n",
    "                    tensors.append(np.flip((temp)%pading_tensor_length,axis=-1).flatten())\n",
    "            else:\n",
    "                for i in range(self.num_attention_heads):\n",
    "                    pp=int(2**(np.ceil(np.log2(seq_len))-1-i%int(np.ceil(np.log2(seq_len)))))\n",
    "                    temp=np.reshape(tempindex,(pp,pading_tensor_length//pp))\n",
    "                    if i<np.ceil(np.log2(seq_len)) and i<self.num_attention_heads//2:\n",
    "                        bias = 0\n",
    "                    else:\n",
    "                        bias = random.randint(1,pading_tensor_length-1)\n",
    "                    tensors.append(np.flip((temp+bias)%pading_tensor_length,axis=-1).flatten())\n",
    "            self.length_flip_index_dict[pading_tensor_length] = torch.LongTensor(np.array(tensors)).to(hidden_states.device)\n",
    "\n",
    "        mixed_query_layer = self.query(hidden_states).view(-1,seq_len,self.num_attention_heads,self.attention_head_size).transpose(1, 2)\n",
    "        mixed_key_layer = self.key(hidden_states).view(-1,seq_len,self.num_attention_heads,self.attention_head_size).transpose(1, 2)\n",
    "      \n",
    "        newten=[]\n",
    "        for i in range(self.num_attention_heads):\n",
    "            newten.append(torch.index_select(mixed_key_layer[:,i], 1, self.length_flip_index_dict[pading_tensor_length][i]))\n",
    "        fliper=torch.stack(newten,dim=1)\n",
    "        mixed_query_layer = mixed_query_layer*mixed_query_layer \n",
    "        mixed_query_layer = mixed_query_layer.transpose(1, 2).reshape(batch_size,seq_len,self.num_attention_heads*self.attention_head_size)\n",
    "\n",
    "        return mixed_query_layer "
   ]
  },
  {
   "cell_type": "code",
   "execution_count": 12,
   "id": "72169ac2",
   "metadata": {},
   "outputs": [],
   "source": [
    "\n",
    "class FlipAttention(nn.Module):\n",
    "    def __init__(self, config):\n",
    "        super(FlipAttention, self).__init__()\n",
    "        self.self = FlipSelfAttention(config)\n",
    "        self.output = BertSelfOutput(config)\n",
    "\n",
    "    def forward(self, input_tensor, attention_mask):\n",
    "        self_output = self.self(input_tensor, attention_mask)\n",
    "        attention_output = self.output(self_output, input_tensor)\n",
    "        return attention_output\n",
    "\n",
    "class FlipformerLayer(nn.Module):\n",
    "    def __init__(self, config):\n",
    "        super(FlipformerLayer, self).__init__()\n",
    "        self.attention = FlipAttention(config)\n",
    "        self.intermediate = BertIntermediate(config)\n",
    "        self.output = BertOutput(config)\n",
    "\n",
    "    def forward(self, hidden_states, attention_mask):\n",
    "        attention_output = self.attention(hidden_states, attention_mask)\n",
    "        intermediate_output = self.intermediate(attention_output)\n",
    "        layer_output = self.output(intermediate_output, attention_output)\n",
    "        return layer_output\n",
    "    \n",
    "class FlipformerEncoder(nn.Module):\n",
    "    def __init__(self, config, pooler_count=1):\n",
    "        super(FlipformerEncoder, self).__init__()\n",
    "        self.config = config\n",
    "        self.encoders = nn.ModuleList([FlipformerLayer(config) for _ in range(config.num_hidden_layers)])\n",
    "        self.position_embeddings = nn.Embedding(config.max_position_embeddings, config.hidden_size)\n",
    "        self.LayerNorm = nn.LayerNorm(config.hidden_size, eps=config.layer_norm_eps)\n",
    "        self.dropout = nn.Dropout(config.hidden_dropout_prob)\n",
    "\n",
    "        # support multiple different poolers with shared bert encoder.\n",
    "        self.poolers = nn.ModuleList()\n",
    "        if config.pooler_type == 'weightpooler':\n",
    "            for _ in range(pooler_count):\n",
    "                self.poolers.append(AttentionPooling(config))\n",
    "        logging.info(f\"This model has {len(self.poolers)} poolers.\")\n",
    "\n",
    "        self.apply(self.init_weights)\n",
    "\n",
    "    def init_weights(self, module):\n",
    "        if isinstance(module, (nn.Linear, nn.Embedding)):\n",
    "            module.weight.data.normal_(mean=0.0, std=self.config.initializer_range)\n",
    "            if isinstance(module, (nn.Embedding)) and module.padding_idx is not None:\n",
    "                with torch.no_grad():\n",
    "                    module.weight[module.padding_idx].fill_(0)\n",
    "        elif isinstance(module, nn.LayerNorm):\n",
    "            module.bias.data.zero_()\n",
    "            module.weight.data.fill_(1.0)\n",
    "        if isinstance(module, nn.Linear) and module.bias is not None:\n",
    "            module.bias.data.zero_()\n",
    "\n",
    "    def forward(self, \n",
    "                input_embs, \n",
    "                attention_mask, \n",
    "                pooler_index=0):\n",
    "        #input_embs: batch_size, seq_len, emb_dim\n",
    "        #attention_mask: batch_size, seq_len, emb_dim\n",
    "\n",
    "        extended_attention_mask = attention_mask.unsqueeze(1)\n",
    "        extended_attention_mask = extended_attention_mask.to(dtype=next(self.parameters()).dtype)  # fp16 compatibility\n",
    "        extended_attention_mask = (1.0 - extended_attention_mask) * -10000.0\n",
    "\n",
    "        batch_size, seq_length, emb_dim = input_embs.shape\n",
    "        position_ids = torch.arange(seq_length, dtype=torch.long, device=input_embs.device)\n",
    "        position_ids = position_ids.unsqueeze(0).expand(batch_size, -1)\n",
    "        position_embeddings = self.position_embeddings(position_ids)\n",
    "\n",
    "        embeddings = input_embs + position_embeddings\n",
    "        \n",
    "        embeddings = self.LayerNorm(embeddings)\n",
    "        embeddings = self.dropout(embeddings)\n",
    "        \n",
    "        \n",
    "        \n",
    "        all_hidden_states = [embeddings]\n",
    "        for i, layer_module in enumerate(self.encoders):\n",
    "            layer_outputs = layer_module(all_hidden_states[-1], extended_attention_mask)\n",
    "            all_hidden_states.append(layer_outputs)\n",
    "        assert len(self.poolers) > pooler_index\n",
    "        output = self.poolers[pooler_index](all_hidden_states[-1], attention_mask)\n",
    "\n",
    "        return output \n"
   ]
  },
  {
   "cell_type": "code",
   "execution_count": 13,
   "id": "adef1394",
   "metadata": {},
   "outputs": [],
   "source": [
    "    \n",
    "class Model(torch.nn.Module):\n",
    "\n",
    "    def __init__(self,config):\n",
    "        super(Model, self).__init__()\n",
    "        self.config = config\n",
    "        self.dense_linear = nn.Linear(config.hidden_size,2)\n",
    "        self.word_embedding = nn.Embedding(len(word_dict),config.hidden_size,padding_idx=0)\n",
    "        self.fastformer_model = FlipformerEncoder(config)\n",
    "        self.criterion = nn.CrossEntropyLoss() \n",
    "        self.apply(self.init_weights)\n",
    "        \n",
    "    def init_weights(self, module):\n",
    "        if isinstance(module, (nn.Linear, nn.Embedding)):\n",
    "            module.weight.data.normal_(mean=0.0, std=self.config.initializer_range)\n",
    "            if isinstance(module, (nn.Embedding)) and module.padding_idx is not None:\n",
    "                with torch.no_grad():\n",
    "                    module.weight[module.padding_idx].fill_(0)\n",
    "        if isinstance(module, nn.Linear) and module.bias is not None:\n",
    "            module.bias.data.zero_()\n",
    "    \n",
    "    def forward(self,input_ids,targets):\n",
    "        mask=input_ids.bool().float()\n",
    "        embds=self.word_embedding(input_ids)\n",
    "        text_vec = self.fastformer_model(embds,mask)\n",
    "        score = self.dense_linear(text_vec)\n",
    "        loss = self.criterion(score, targets) \n",
    "        return loss, score"
   ]
  },
  {
   "cell_type": "code",
   "execution_count": 14,
   "id": "a3e166ae",
   "metadata": {},
   "outputs": [],
   "source": [
    "def acc(y_true, y_hat):\n",
    "    y_hat = torch.argmax(y_hat, dim=-1)\n",
    "    tot = y_true.shape[0]\n",
    "    hit = torch.sum(y_true == y_hat)\n",
    "    return hit.data.float() * 1.0 / tot"
   ]
  },
  {
   "cell_type": "code",
   "execution_count": 17,
   "id": "76c2ed1b",
   "metadata": {},
   "outputs": [
    {
     "data": {
      "text/plain": [
       "Model(\n",
       "  (dense_linear): Linear(in_features=256, out_features=2, bias=True)\n",
       "  (word_embedding): Embedding(103893, 256, padding_idx=0)\n",
       "  (fastformer_model): FlipformerEncoder(\n",
       "    (encoders): ModuleList(\n",
       "      (0): FlipformerLayer(\n",
       "        (attention): FlipAttention(\n",
       "          (self): FlipSelfAttention(\n",
       "            (query): Linear(in_features=256, out_features=256, bias=True)\n",
       "            (key): Linear(in_features=256, out_features=256, bias=True)\n",
       "            (softmax): Softmax(dim=-1)\n",
       "          )\n",
       "          (output): BertSelfOutput(\n",
       "            (dense): Linear(in_features=256, out_features=256, bias=True)\n",
       "            (LayerNorm): LayerNorm((256,), eps=1e-12, elementwise_affine=True)\n",
       "            (dropout): Dropout(p=0.2, inplace=False)\n",
       "          )\n",
       "        )\n",
       "        (intermediate): BertIntermediate(\n",
       "          (dense): Linear(in_features=256, out_features=256, bias=True)\n",
       "        )\n",
       "        (output): BertOutput(\n",
       "          (dense): Linear(in_features=256, out_features=256, bias=True)\n",
       "          (LayerNorm): LayerNorm((256,), eps=1e-12, elementwise_affine=True)\n",
       "          (dropout): Dropout(p=0.2, inplace=False)\n",
       "        )\n",
       "      )\n",
       "      (1): FlipformerLayer(\n",
       "        (attention): FlipAttention(\n",
       "          (self): FlipSelfAttention(\n",
       "            (query): Linear(in_features=256, out_features=256, bias=True)\n",
       "            (key): Linear(in_features=256, out_features=256, bias=True)\n",
       "            (softmax): Softmax(dim=-1)\n",
       "          )\n",
       "          (output): BertSelfOutput(\n",
       "            (dense): Linear(in_features=256, out_features=256, bias=True)\n",
       "            (LayerNorm): LayerNorm((256,), eps=1e-12, elementwise_affine=True)\n",
       "            (dropout): Dropout(p=0.2, inplace=False)\n",
       "          )\n",
       "        )\n",
       "        (intermediate): BertIntermediate(\n",
       "          (dense): Linear(in_features=256, out_features=256, bias=True)\n",
       "        )\n",
       "        (output): BertOutput(\n",
       "          (dense): Linear(in_features=256, out_features=256, bias=True)\n",
       "          (LayerNorm): LayerNorm((256,), eps=1e-12, elementwise_affine=True)\n",
       "          (dropout): Dropout(p=0.2, inplace=False)\n",
       "        )\n",
       "      )\n",
       "    )\n",
       "    (position_embeddings): Embedding(512, 256)\n",
       "    (LayerNorm): LayerNorm((256,), eps=1e-12, elementwise_affine=True)\n",
       "    (dropout): Dropout(p=0.2, inplace=False)\n",
       "    (poolers): ModuleList(\n",
       "      (0): AttentionPooling(\n",
       "        (att_fc1): Linear(in_features=256, out_features=256, bias=True)\n",
       "        (att_fc2): Linear(in_features=256, out_features=1, bias=True)\n",
       "      )\n",
       "    )\n",
       "  )\n",
       "  (criterion): CrossEntropyLoss()\n",
       ")"
      ]
     },
     "execution_count": 17,
     "metadata": {},
     "output_type": "execute_result"
    }
   ],
   "source": [
    "import math\n",
    "model = Model(config)\n",
    "import torch.optim as optim\n",
    "optimizer = optim.Adam([ {'params': model.parameters(), 'lr': 1e-3}])\n",
    "model.cuda()"
   ]
  },
  {
   "cell_type": "code",
   "execution_count": 18,
   "id": "b0bc0f64",
   "metadata": {},
   "outputs": [
    {
     "name": "stderr",
     "output_type": "stream",
     "text": [
      "  1%|          | 4/390 [00:00<00:24, 16.00it/s]"
     ]
    },
    {
     "name": "stdout",
     "output_type": "stream",
     "text": [
      " Ed: 0, train_loss: 0.69153, acc: 0.56250\n"
     ]
    },
    {
     "name": "stderr",
     "output_type": "stream",
     "text": [
      " 27%|██▋       | 104/390 [00:06<00:17, 16.18it/s]"
     ]
    },
    {
     "name": "stdout",
     "output_type": "stream",
     "text": [
      " Ed: 6400, train_loss: 0.46992, acc: 0.76733\n"
     ]
    },
    {
     "name": "stderr",
     "output_type": "stream",
     "text": [
      " 52%|█████▏    | 204/390 [00:12<00:11, 16.12it/s]"
     ]
    },
    {
     "name": "stdout",
     "output_type": "stream",
     "text": [
      " Ed: 12800, train_loss: 0.39929, acc: 0.81297\n"
     ]
    },
    {
     "name": "stderr",
     "output_type": "stream",
     "text": [
      " 78%|███████▊  | 304/390 [00:18<00:05, 16.85it/s]"
     ]
    },
    {
     "name": "stdout",
     "output_type": "stream",
     "text": [
      " Ed: 19200, train_loss: 0.37262, acc: 0.83046\n"
     ]
    },
    {
     "name": "stderr",
     "output_type": "stream",
     "text": [
      "100%|██████████| 390/390 [00:23<00:00, 16.58it/s]\n"
     ]
    },
    {
     "name": "stdout",
     "output_type": "stream",
     "text": [
      "0.89144\n"
     ]
    }
   ],
   "source": [
    "import time\n",
    "step=0 \n",
    "for epoch in range(1):\n",
    "    loss = 0.0\n",
    "    accuracy = 0.0\n",
    "    for cnt in tqdm(range(len(train_index)//64)):\n",
    "\n",
    "        log_ids=news_words[train_index][cnt*64:cnt*64+64,:512]\n",
    "        targets= label[train_index][cnt*64:cnt*64+64]\n",
    "\n",
    "        log_ids = torch.LongTensor(log_ids).cuda(non_blocking=True)\n",
    "        targets = torch.LongTensor(targets).cuda(non_blocking=True)\n",
    "        bz_loss, y_hat = model(log_ids, targets)\n",
    "        loss += bz_loss.data.float()\n",
    "        accuracy += acc(targets, y_hat)\n",
    "        unified_loss=bz_loss\n",
    "        optimizer.zero_grad()\n",
    "        unified_loss.backward()\n",
    "        optimizer.step() \n",
    "        step+=1\n",
    "        if cnt % 100== 0:\n",
    "            print( ' Ed: {}, train_loss: {:.5f}, acc: {:.5f}'.format(cnt * 64, loss.data / (cnt+1), accuracy / (cnt+1)))\n",
    "    model.eval()\n",
    "    allpred=[]\n",
    "    for cnt in range(len(test_index)//64+1):\n",
    "    \n",
    "        log_ids=news_words[test_index][cnt*64:cnt*64+64,:512]\n",
    "        targets= label[test_index][cnt*64:cnt*64+64]\n",
    "        log_ids = torch.LongTensor(log_ids).cuda(non_blocking=True)\n",
    "        targets = torch.LongTensor(targets).cuda(non_blocking=True)\n",
    "    \n",
    "        bz_loss2, y_hat2 = model(log_ids, targets)\n",
    "        allpred+=y_hat2.to('cpu').detach().numpy().tolist()\n",
    "        \n",
    "    y_pred=np.argmax(allpred,axis=-1)\n",
    "    y_true=label[test_index]\n",
    "    from sklearn.metrics import *\n",
    "    print(accuracy_score(y_true, y_pred))\n",
    "    model.train()"
   ]
  }
 ],
 "metadata": {
  "kernelspec": {
   "display_name": "Python 3",
   "language": "python",
   "name": "python3"
  },
  "language_info": {
   "codemirror_mode": {
    "name": "ipython",
    "version": 3
   },
   "file_extension": ".py",
   "mimetype": "text/x-python",
   "name": "python",
   "nbconvert_exporter": "python",
   "pygments_lexer": "ipython3",
   "version": "3.6.9"
  }
 },
 "nbformat": 4,
 "nbformat_minor": 5
}
